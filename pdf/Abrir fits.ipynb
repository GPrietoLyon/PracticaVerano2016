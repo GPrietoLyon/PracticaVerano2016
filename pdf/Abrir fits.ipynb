{
 "cells": [
  {
   "cell_type": "code",
   "execution_count": 2,
   "metadata": {
    "collapsed": false
   },
   "outputs": [
    {
     "name": "stderr",
     "output_type": "stream",
     "text": [
      "/home/zapredfield/anaconda/lib/python2.7/site-packages/IPython/kernel/__init__.py:13: ShimWarning: The `IPython.kernel` package has been deprecated. You should import from ipykernel or jupyter_client instead.\n",
      "  \"You should import from ipykernel or jupyter_client instead.\", ShimWarning)\n"
     ]
    }
   ],
   "source": [
    "import numpy as np\n",
    "import matplotlib.pyplot as plt\n",
    "from astropy.io import ascii\n",
    "from astropy.io import fits"
   ]
  },
  {
   "cell_type": "code",
   "execution_count": 3,
   "metadata": {
    "collapsed": true
   },
   "outputs": [],
   "source": [
    "nombre=\"zd_fsps_v2.4_miles_chab_charlot_sfhgrid01.fits\""
   ]
  },
  {
   "cell_type": "code",
   "execution_count": 6,
   "metadata": {
    "collapsed": true
   },
   "outputs": [],
   "source": [
    "c= fits.open(nombre)"
   ]
  },
  {
   "cell_type": "code",
   "execution_count": 7,
   "metadata": {
    "collapsed": false
   },
   "outputs": [
    {
     "name": "stdout",
     "output_type": "stream",
     "text": [
      "Filename: zd_fsps_v2.4_miles_chab_charlot_sfhgrid01.fits\n",
      "No.    Name         Type      Cards   Dimensions   Format\n",
      "0    PRIMARY     PrimaryHDU       4   ()              \n",
      "1                BinTableHDU    177   100R x 80C   [J, D, D, E, 12E, 12E, 12E, I, I, J, J, E, E, E, E, E, E, E, E, E, E, E, E, E, E, E, E, E, E, E, I, E, 68E, 68E, 68E, E, E, E, E, E, E, E, E, E, E, E, E, E, E, E, E, E, E, E, E, E, E, E, E, E, E, E, E, E, E, E, E, E, E, E, E, E, E, E, E, E, E, E, E, E]   \n"
     ]
    }
   ],
   "source": [
    "c.info()"
   ]
  },
  {
   "cell_type": "code",
   "execution_count": 13,
   "metadata": {
    "collapsed": true
   },
   "outputs": [],
   "source": [
    "table=c[1]"
   ]
  },
  {
   "cell_type": "code",
   "execution_count": 14,
   "metadata": {
    "collapsed": false
   },
   "outputs": [
    {
     "data": {
      "text/plain": [
       "XTENSION= 'BINTABLE'           /Binary table written by MWRFITS v1.11           \n",
       "BITPIX  =                    8 /Required value                                  \n",
       "NAXIS   =                    2 /Required value                                  \n",
       "NAXIS1  =                 1258 /Number of bytes per row                         \n",
       "NAXIS2  =                  100 /Number of rows                                  \n",
       "PCOUNT  =                    0 /Normally 0 (no varying arrays)                  \n",
       "GCOUNT  =                    1 /Required value                                  \n",
       "TFIELDS =                   80 /Number of columns in table                      \n",
       "COMMENT                                                                         \n",
       "COMMENT  *** End of mandatory fields ***                                        \n",
       "COMMENT                                                                         \n",
       "COMMENT                                                                         \n",
       "COMMENT  *** Column names ***                                                   \n",
       "COMMENT                                                                         \n",
       "TTYPE1  = 'ISEDFIT_ID'         /                                                \n",
       "TTYPE2  = 'RA      '           /                                                \n",
       "TTYPE3  = 'DEC     '           /                                                \n",
       "TTYPE4  = 'Z       '           /                                                \n",
       "TTYPE5  = 'MAGGIES '           /                                                \n",
       "TTYPE6  = 'IVARMAGGIES'        /                                                \n",
       "TTYPE7  = 'BESTMAGGIES'        /                                                \n",
       "TTYPE8  = 'CHUNKINDX'          /                                                \n",
       "TTYPE9  = 'MODELINDX'          /                                                \n",
       "TTYPE10 = 'DELAYED '           /                                                \n",
       "TTYPE11 = 'BURSTTYPE'          /                                                \n",
       "TTYPE12 = 'CHI2    '           /                                                \n",
       "TTYPE13 = 'TOTALMASS'          /                                                \n",
       "TTYPE14 = 'TOTALMASS_ERR'      /                                                \n",
       "TTYPE15 = 'MSTAR   '           /                                                \n",
       "TTYPE16 = 'AGE     '           /                                                \n",
       "TTYPE17 = 'SFRAGE  '           /                                                \n",
       "TTYPE18 = 'TAU     '           /                                                \n",
       "TTYPE19 = 'ZMETAL  '           /                                                \n",
       "TTYPE20 = 'AV      '           /                                                \n",
       "TTYPE21 = 'MU      '           /                                                \n",
       "TTYPE22 = 'OIIIHB  '           /                                                \n",
       "TTYPE23 = 'NLYC    '           /                                                \n",
       "TTYPE24 = 'SFR     '           /                                                \n",
       "TTYPE25 = 'SFR100  '           /                                                \n",
       "TTYPE26 = 'B100    '           /                                                \n",
       "TTYPE27 = 'B1000   '           /                                                \n",
       "TTYPE28 = 'EWOII   '           /                                                \n",
       "TTYPE29 = 'EWOIIIHB'           /                                                \n",
       "TTYPE30 = 'EWNIIHA '           /                                                \n",
       "TTYPE31 = 'NBURST  '           /                                                \n",
       "TTYPE32 = 'TRUNCTAU'           /                                                \n",
       "TTYPE33 = 'TBURST  '           /                                                \n",
       "TTYPE34 = 'DTBURST '           /                                                \n",
       "TTYPE35 = 'FBURST  '           /                                                \n",
       "TTYPE36 = 'MSTAR_50'           /                                                \n",
       "TTYPE37 = 'AGE_50  '           /                                                \n",
       "TTYPE38 = 'SFRAGE_50'          /                                                \n",
       "TTYPE39 = 'TAU_50  '           /                                                \n",
       "TTYPE40 = 'ZMETAL_50'          /                                                \n",
       "TTYPE41 = 'AV_50   '           /                                                \n",
       "TTYPE42 = 'MU_50   '           /                                                \n",
       "TTYPE43 = 'OIIIHB_50'          /                                                \n",
       "TTYPE44 = 'SFR_50  '           /                                                \n",
       "TTYPE45 = 'SFR100_50'          /                                                \n",
       "TTYPE46 = 'B100_50 '           /                                                \n",
       "TTYPE47 = 'B1000_50'           /                                                \n",
       "TTYPE48 = 'EWOII_50'           /                                                \n",
       "TTYPE49 = 'EWOIIIHB_50'        /                                                \n",
       "TTYPE50 = 'EWNIIHA_50'         /                                                \n",
       "TTYPE51 = 'MSTAR_AVG'          /                                                \n",
       "TTYPE52 = 'AGE_AVG '           /                                                \n",
       "TTYPE53 = 'SFRAGE_AVG'         /                                                \n",
       "TTYPE54 = 'TAU_AVG '           /                                                \n",
       "TTYPE55 = 'ZMETAL_AVG'         /                                                \n",
       "TTYPE56 = 'AV_AVG  '           /                                                \n",
       "TTYPE57 = 'MU_AVG  '           /                                                \n",
       "TTYPE58 = 'OIIIHB_AVG'         /                                                \n",
       "TTYPE59 = 'SFR_AVG '           /                                                \n",
       "TTYPE60 = 'SFR100_AVG'         /                                                \n",
       "TTYPE61 = 'B100_AVG'           /                                                \n",
       "TTYPE62 = 'B1000_AVG'          /                                                \n",
       "TTYPE63 = 'EWOII_AVG'          /                                                \n",
       "TTYPE64 = 'EWOIIIHB_AVG'       /                                                \n",
       "TTYPE65 = 'EWNIIHA_AVG'        /                                                \n",
       "TTYPE66 = 'MSTAR_ERR'          /                                                \n",
       "TTYPE67 = 'AGE_ERR '           /                                                \n",
       "TTYPE68 = 'SFRAGE_ERR'         /                                                \n",
       "TTYPE69 = 'TAU_ERR '           /                                                \n",
       "TTYPE70 = 'ZMETAL_ERR'         /                                                \n",
       "TTYPE71 = 'AV_ERR  '           /                                                \n",
       "TTYPE72 = 'MU_ERR  '           /                                                \n",
       "TTYPE73 = 'OIIIHB_ERR'         /                                                \n",
       "TTYPE74 = 'SFR_ERR '           /                                                \n",
       "TTYPE75 = 'SFR100_ERR'         /                                                \n",
       "TTYPE76 = 'B100_ERR'           /                                                \n",
       "TTYPE77 = 'B1000_ERR'          /                                                \n",
       "TTYPE78 = 'EWOII_ERR'          /                                                \n",
       "TTYPE79 = 'EWOIIIHB_ERR'       /                                                \n",
       "TTYPE80 = 'EWNIIHA_ERR'        /                                                \n",
       "COMMENT                                                                         \n",
       "COMMENT  *** Column formats ***                                                 \n",
       "COMMENT                                                                         \n",
       "TFORM1  = 'J       '           /                                                \n",
       "TFORM2  = 'D       '           /                                                \n",
       "TFORM3  = 'D       '           /                                                \n",
       "TFORM4  = 'E       '           /                                                \n",
       "TFORM5  = '12E     '           /                                                \n",
       "TFORM6  = '12E     '           /                                                \n",
       "TFORM7  = '12E     '           /                                                \n",
       "TFORM8  = 'I       '           /                                                \n",
       "TFORM9  = 'I       '           /                                                \n",
       "TFORM10 = 'J       '           /                                                \n",
       "TFORM11 = 'J       '           /                                                \n",
       "TFORM12 = 'E       '           /                                                \n",
       "TFORM13 = 'E       '           /                                                \n",
       "TFORM14 = 'E       '           /                                                \n",
       "TFORM15 = 'E       '           /                                                \n",
       "TFORM16 = 'E       '           /                                                \n",
       "TFORM17 = 'E       '           /                                                \n",
       "TFORM18 = 'E       '           /                                                \n",
       "TFORM19 = 'E       '           /                                                \n",
       "TFORM20 = 'E       '           /                                                \n",
       "TFORM21 = 'E       '           /                                                \n",
       "TFORM22 = 'E       '           /                                                \n",
       "TFORM23 = 'E       '           /                                                \n",
       "TFORM24 = 'E       '           /                                                \n",
       "TFORM25 = 'E       '           /                                                \n",
       "TFORM26 = 'E       '           /                                                \n",
       "TFORM27 = 'E       '           /                                                \n",
       "TFORM28 = 'E       '           /                                                \n",
       "TFORM29 = 'E       '           /                                                \n",
       "TFORM30 = 'E       '           /                                                \n",
       "TFORM31 = 'I       '           /                                                \n",
       "TFORM32 = 'E       '           /                                                \n",
       "TFORM33 = '68E     '           /                                                \n",
       "TFORM34 = '68E     '           /                                                \n",
       "TFORM35 = '68E     '           /                                                \n",
       "TFORM36 = 'E       '           /                                                \n",
       "TFORM37 = 'E       '           /                                                \n",
       "TFORM38 = 'E       '           /                                                \n",
       "TFORM39 = 'E       '           /                                                \n",
       "TFORM40 = 'E       '           /                                                \n",
       "TFORM41 = 'E       '           /                                                \n",
       "TFORM42 = 'E       '           /                                                \n",
       "TFORM43 = 'E       '           /                                                \n",
       "TFORM44 = 'E       '           /                                                \n",
       "TFORM45 = 'E       '           /                                                \n",
       "TFORM46 = 'E       '           /                                                \n",
       "TFORM47 = 'E       '           /                                                \n",
       "TFORM48 = 'E       '           /                                                \n",
       "TFORM49 = 'E       '           /                                                \n",
       "TFORM50 = 'E       '           /                                                \n",
       "TFORM51 = 'E       '           /                                                \n",
       "TFORM52 = 'E       '           /                                                \n",
       "TFORM53 = 'E       '           /                                                \n",
       "TFORM54 = 'E       '           /                                                \n",
       "TFORM55 = 'E       '           /                                                \n",
       "TFORM56 = 'E       '           /                                                \n",
       "TFORM57 = 'E       '           /                                                \n",
       "TFORM58 = 'E       '           /                                                \n",
       "TFORM59 = 'E       '           /                                                \n",
       "TFORM60 = 'E       '           /                                                \n",
       "TFORM61 = 'E       '           /                                                \n",
       "TFORM62 = 'E       '           /                                                \n",
       "TFORM63 = 'E       '           /                                                \n",
       "TFORM64 = 'E       '           /                                                \n",
       "TFORM65 = 'E       '           /                                                \n",
       "TFORM66 = 'E       '           /                                                \n",
       "TFORM67 = 'E       '           /                                                \n",
       "TFORM68 = 'E       '           /                                                \n",
       "TFORM69 = 'E       '           /                                                \n",
       "TFORM70 = 'E       '           /                                                \n",
       "TFORM71 = 'E       '           /                                                \n",
       "TFORM72 = 'E       '           /                                                \n",
       "TFORM73 = 'E       '           /                                                \n",
       "TFORM74 = 'E       '           /                                                \n",
       "TFORM75 = 'E       '           /                                                \n",
       "TFORM76 = 'E       '           /                                                \n",
       "TFORM77 = 'E       '           /                                                \n",
       "TFORM78 = 'E       '           /                                                \n",
       "TFORM79 = 'E       '           /                                                \n",
       "TFORM80 = 'E       '           /                                                "
      ]
     },
     "execution_count": 14,
     "metadata": {},
     "output_type": "execute_result"
    }
   ],
   "source": [
    "table.header"
   ]
  },
  {
   "cell_type": "code",
   "execution_count": 21,
   "metadata": {
    "collapsed": false
   },
   "outputs": [
    {
     "ename": "TypeError",
     "evalue": "'BinTableHDU' object has no attribute '__getitem__'",
     "output_type": "error",
     "traceback": [
      "\u001b[1;31m---------------------------------------------------------------------------\u001b[0m",
      "\u001b[1;31mTypeError\u001b[0m                                 Traceback (most recent call last)",
      "\u001b[1;32m<ipython-input-21-0da9e6bfb230>\u001b[0m in \u001b[0;36m<module>\u001b[1;34m()\u001b[0m\n\u001b[1;32m----> 1\u001b[1;33m \u001b[0mredshifts\u001b[0m\u001b[1;33m=\u001b[0m\u001b[0mtable\u001b[0m\u001b[1;33m[\u001b[0m\u001b[1;36m0\u001b[0m\u001b[1;33m,\u001b[0m\u001b[1;36m1\u001b[0m\u001b[1;33m,\u001b[0m\u001b[1;36m2\u001b[0m\u001b[1;33m,\u001b[0m\u001b[1;36m3\u001b[0m\u001b[1;33m,\u001b[0m\u001b[1;36m4\u001b[0m\u001b[1;33m]\u001b[0m\u001b[1;33m[\u001b[0m\u001b[1;34m'TOTALMASS'\u001b[0m\u001b[1;33m]\u001b[0m\u001b[1;33m\u001b[0m\u001b[0m\n\u001b[0m",
      "\u001b[1;31mTypeError\u001b[0m: 'BinTableHDU' object has no attribute '__getitem__'"
     ]
    }
   ],
   "source": [
    "redshifts=table[0,1,2,3,4]['TOTALMASS']"
   ]
  },
  {
   "cell_type": "code",
   "execution_count": null,
   "metadata": {
    "collapsed": true
   },
   "outputs": [],
   "source": []
  }
 ],
 "metadata": {
  "kernelspec": {
   "display_name": "Python 2",
   "language": "python",
   "name": "python2"
  },
  "language_info": {
   "codemirror_mode": {
    "name": "ipython",
    "version": 2
   },
   "file_extension": ".py",
   "mimetype": "text/x-python",
   "name": "python",
   "nbconvert_exporter": "python",
   "pygments_lexer": "ipython2",
   "version": "2.7.11"
  }
 },
 "nbformat": 4,
 "nbformat_minor": 0
}
