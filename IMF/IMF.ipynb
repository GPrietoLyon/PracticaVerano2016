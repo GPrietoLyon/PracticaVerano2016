{
 "cells": [
  {
   "cell_type": "code",
   "execution_count": 1,
   "metadata": {
    "collapsed": true
   },
   "outputs": [],
   "source": [
    "import matplotlib.pyplot as plt\n",
    "import numpy as np"
   ]
  },
  {
   "cell_type": "code",
   "execution_count": 2,
   "metadata": {
    "collapsed": false
   },
   "outputs": [],
   "source": [
    "ml=0.01\n",
    "mu=100\n",
    "m=np.linspace(ml,mu,100000)"
   ]
  },
  {
   "cell_type": "code",
   "execution_count": 3,
   "metadata": {
    "collapsed": false
   },
   "outputs": [],
   "source": [
    "#salpeter\n",
    "def salpeter(m):\n",
    "    salp=[]\n",
    "    E=m**(-2.3)\n",
    "    return E\n",
    "    \n",
    "salp=np.array(salpeter(m))"
   ]
  },
  {
   "cell_type": "code",
   "execution_count": 4,
   "metadata": {
    "collapsed": false
   },
   "outputs": [],
   "source": [
    "#chabrier\n",
    "\n",
    "def chabrier(m):\n",
    "    E=[]\n",
    "    for a in m:\n",
    "        if a>=1:\n",
    "            E.append(a**(-2.3))\n",
    "        if a<1:\n",
    "            mc=0.08\n",
    "            sigma=0.69\n",
    "            gauss=8*(1/(np.log(10)*a))*np.exp(-((np.log10(a)-np.log10(mc))**2)/(2*sigma**2))\n",
    "            E.append(gauss)\n",
    "    return E\n",
    "\n",
    "chab=chabrier(m)"
   ]
  },
  {
   "cell_type": "code",
   "execution_count": 5,
   "metadata": {
    "collapsed": true
   },
   "outputs": [],
   "source": [
    "#krouppa\n",
    "\n",
    "def kroupa(m):\n",
    "    E=[]\n",
    "    for a in m:\n",
    "        if a<=0.08:\n",
    "            E.append((a**(-0.3))*25)\n",
    "        if a>0.08 and a<=0.5:\n",
    "            E.append((a**(-1.3))*2)\n",
    "        if a>0.5:\n",
    "            E.append(a**(-2.3))\n",
    "    return E\n",
    "\n",
    "kro=np.array(kroupa(m))\n"
   ]
  },
  {
   "cell_type": "code",
   "execution_count": 6,
   "metadata": {
    "collapsed": false
   },
   "outputs": [],
   "source": [
    "#van dokkum\n",
    "\n",
    "mc1=0.4\n",
    "mc2=2\n",
    "\n",
    "def dokkem(m,mc):\n",
    "    nc=25\n",
    "    sigma=0.69\n",
    "    E=[]\n",
    "    for a in m:\n",
    "        if a>=nc*mc:\n",
    "            E.append(a**(-2.3))\n",
    "        if a<nc*mc:\n",
    "            gauss=0.140*((0.5*nc*mc)**(-2.3))*np.exp(-((np.log10(a)-np.log10(mc))**2)/(2*sigma**2))\n",
    "            E.append(gauss*11)\n",
    "    return E\n",
    "\n",
    "dok1=dokkem(m,mc1)\n",
    "dok2=dokkem(m,mc2)"
   ]
  },
  {
   "cell_type": "code",
   "execution_count": 18,
   "metadata": {
    "collapsed": false
   },
   "outputs": [],
   "source": [
    "l=2\n",
    "\n",
    "plt.loglog(m,salp,label=\"Salpeter\",lw=l)\n",
    "plt.loglog(m,chab,label=\"Chabrier\",lw=l)\n",
    "plt.loglog(m,kro,label=\"kroupa\",lw=l)\n",
    "plt.loglog(m,dok1,label=\"mc=0.4\",lw=l)\n",
    "plt.loglog(m,dok2,label=\"mc=2\",lw=l)\n",
    "plt.legend()\n",
    "plt.grid()\n",
    "plt.xlabel(r\"$M_\\odot$\",size=20)\n",
    "plt.ylabel(\"Numero(m)\")\n",
    "plt.title(\"IMF\")\n",
    "plt.show()"
   ]
  },
  {
   "cell_type": "code",
   "execution_count": null,
   "metadata": {
    "collapsed": true
   },
   "outputs": [],
   "source": []
  }
 ],
 "metadata": {
  "kernelspec": {
   "display_name": "Python 2",
   "language": "python",
   "name": "python2"
  },
  "language_info": {
   "codemirror_mode": {
    "name": "ipython",
    "version": 2
   },
   "file_extension": ".py",
   "mimetype": "text/x-python",
   "name": "python",
   "nbconvert_exporter": "python",
   "pygments_lexer": "ipython2",
   "version": "2.7.11"
  }
 },
 "nbformat": 4,
 "nbformat_minor": 0
}
