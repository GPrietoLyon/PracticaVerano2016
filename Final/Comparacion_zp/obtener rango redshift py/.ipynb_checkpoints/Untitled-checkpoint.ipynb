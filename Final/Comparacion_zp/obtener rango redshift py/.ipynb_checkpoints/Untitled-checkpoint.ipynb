{
 "cells": [
  {
   "cell_type": "code",
   "execution_count": 1,
   "metadata": {
    "collapsed": false
   },
   "outputs": [
    {
     "name": "stderr",
     "output_type": "stream",
     "text": [
      "/home/zapredfield/anaconda/lib/python2.7/site-packages/IPython/kernel/__init__.py:13: ShimWarning: The `IPython.kernel` package has been deprecated. You should import from ipykernel or jupyter_client instead.\n",
      "  \"You should import from ipykernel or jupyter_client instead.\", ShimWarning)\n"
     ]
    }
   ],
   "source": [
    "from astropy.io import ascii\n",
    "import numpy as np\n",
    "import matplotlib.pyplot as plt"
   ]
  },
  {
   "cell_type": "code",
   "execution_count": 2,
   "metadata": {
    "collapsed": true
   },
   "outputs": [],
   "source": [
    "z=[]\n",
    "zmin=[]\n",
    "zmax=[]\n",
    "x=np.linspace(0.001,11.5,230)"
   ]
  },
  {
   "cell_type": "code",
   "execution_count": 3,
   "metadata": {
    "collapsed": false,
    "scrolled": false
   },
   "outputs": [
    {
     "name": "stderr",
     "output_type": "stream",
     "text": [
      "/home/zapredfield/anaconda/lib/python2.7/site-packages/bs4/__init__.py:181: UserWarning: No parser was explicitly specified, so I'm using the best available HTML parser for this system (\"lxml\"). This usually isn't a problem, but if you run this code on another system, or in a different virtual environment, it may use a different parser and behave differently.\n",
      "\n",
      "The code that caused this warning is on line 162 of the file /home/zapredfield/anaconda/lib/python2.7/runpy.py. To get rid of this warning, change code that looks like this:\n",
      "\n",
      " BeautifulSoup([your markup])\n",
      "\n",
      "to this:\n",
      "\n",
      " BeautifulSoup([your markup], \"lxml\")\n",
      "\n",
      "  markup_type=markup_type))\n"
     ]
    }
   ],
   "source": [
    "martxt = ascii.read(\"txt/photz_maraston.txt\") \n",
    "pegtxt = ascii.read(\"txt/photz_pegase.txt\") \n",
    "fspstxt = ascii.read(\"txt/photz_fsps.txt\") \n",
    "bctxt = ascii.read(\"txt/photz_bc03.txt\") "
   ]
  },
  {
   "cell_type": "code",
   "execution_count": 4,
   "metadata": {
    "collapsed": false
   },
   "outputs": [],
   "source": [
    "%matplotlib inline\n",
    "\n",
    "\n",
    "\n",
    "def llenar(txt):\n",
    "    nz=230\n",
    "    ng=149\n",
    "    trasp=[]\n",
    "    for fila in txt:\n",
    "        dist=[]    \n",
    "        for i in range(0,nz):\n",
    "            dist.append(fila[i])\n",
    "        trasp.append(dist)\n",
    "    return trasp\n",
    "\n",
    "maraston=llenar(martxt)\n",
    "pegase=llenar(pegtxt)\n",
    "fsps=llenar(fspstxt)\n",
    "bc03=llenar(bctxt)"
   ]
  },
  {
   "cell_type": "code",
   "execution_count": 13,
   "metadata": {
    "collapsed": false
   },
   "outputs": [],
   "source": [
    "c=open('high_z.txt', 'r')\n",
    "cand=[]\n",
    "for i in range(0,78):\n",
    "    cand.append(int(c.readline()))\n",
    "c.close()\n",
    "\n",
    "inte=open('interesant.txt', 'r')\n",
    "interes=[]\n",
    "for i in range(0,34):\n",
    "    interes.append(int(inte.readline()))\n",
    "inte.close()"
   ]
  },
  {
   "cell_type": "code",
   "execution_count": 15,
   "metadata": {
    "collapsed": false
   },
   "outputs": [],
   "source": [
    "maraston=llenar(martxt)\n",
    "pegase=llenar(pegtxt)\n",
    "fsps=llenar(fspstxt)\n",
    "bc03=llenar(bctxt)"
   ]
  },
  {
   "cell_type": "code",
   "execution_count": null,
   "metadata": {
    "collapsed": false
   },
   "outputs": [],
   "source": [
    "for fila in maraston:\n",
    "    "
   ]
  }
 ],
 "metadata": {
  "kernelspec": {
   "display_name": "Python 2",
   "language": "python",
   "name": "python2"
  },
  "language_info": {
   "codemirror_mode": {
    "name": "ipython",
    "version": 2
   },
   "file_extension": ".py",
   "mimetype": "text/x-python",
   "name": "python",
   "nbconvert_exporter": "python",
   "pygments_lexer": "ipython2",
   "version": "2.7.11"
  }
 },
 "nbformat": 4,
 "nbformat_minor": 0
}
