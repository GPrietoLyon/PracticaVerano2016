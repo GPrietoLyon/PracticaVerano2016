{
 "cells": [
  {
   "cell_type": "code",
   "execution_count": 2,
   "metadata": {
    "collapsed": false
   },
   "outputs": [
    {
     "name": "stderr",
     "output_type": "stream",
     "text": [
      "/home/zapredfield/anaconda/lib/python2.7/site-packages/IPython/kernel/__init__.py:13: ShimWarning: The `IPython.kernel` package has been deprecated. You should import from ipykernel or jupyter_client instead.\n",
      "  \"You should import from ipykernel or jupyter_client instead.\", ShimWarning)\n"
     ]
    }
   ],
   "source": [
    "from astropy.io import ascii\n",
    "import numpy as np\n",
    "import matplotlib.pyplot as plt"
   ]
  },
  {
   "cell_type": "code",
   "execution_count": 27,
   "metadata": {
    "collapsed": true
   },
   "outputs": [],
   "source": [
    "z=[]\n",
    "zmin=[]\n",
    "zmax=[]"
   ]
  },
  {
   "cell_type": "code",
   "execution_count": 28,
   "metadata": {
    "collapsed": false,
    "scrolled": false
   },
   "outputs": [],
   "source": [
    "martxt = ascii.read(\"txt/photz_maraston.txt\") \n",
    "pegtxt = ascii.read(\"txt/photz_pegase.txt\") \n",
    "fspstxt = ascii.read(\"txt/photz_fsps.txt\") \n",
    "bctxt = ascii.read(\"txt/photz_bc03.txt\") "
   ]
  },
  {
   "cell_type": "code",
   "execution_count": 29,
   "metadata": {
    "collapsed": false
   },
   "outputs": [],
   "source": [
    "%matplotlib inline\n",
    "\n",
    "\n",
    "\n",
    "def llenar(txt):\n",
    "    x=np.linspace(0.001,11.5,230)\n",
    "    nz=230\n",
    "    ng=149\n",
    "    trasp=[]\n",
    "    for fila in txt:\n",
    "        dist=[]    \n",
    "        for i in range(0,nz):\n",
    "            dist.append([fila[i],x[i]])\n",
    "        trasp.append(dist)\n",
    "    return trasp\n",
    "\n",
    "maraston=llenar(martxt)\n",
    "pegase=llenar(pegtxt)\n",
    "fsps=llenar(fspstxt)\n",
    "bc03=llenar(bctxt)"
   ]
  },
  {
   "cell_type": "code",
   "execution_count": 30,
   "metadata": {
    "collapsed": false
   },
   "outputs": [],
   "source": [
    "c=open('high_z.txt', 'r')\n",
    "cand=[]\n",
    "for i in range(0,78):\n",
    "    cand.append(int(c.readline()))\n",
    "c.close()\n",
    "\n",
    "inte=open('interesant.txt', 'r')\n",
    "interes=[]\n",
    "for i in range(0,34):\n",
    "    interes.append(int(inte.readline()))\n",
    "inte.close()\n"
   ]
  },
  {
   "cell_type": "code",
   "execution_count": 47,
   "metadata": {
    "collapsed": false
   },
   "outputs": [
    {
     "name": "stdout",
     "output_type": "stream",
     "text": [
      "[8.5624825327510905, 3]\n",
      "[8.2863056768558945, 6]\n",
      "[8.0352358078602624, 7]\n",
      "[7.9348078602620093, 12]\n",
      "[7.7716124454148492, 13]\n",
      "[7.4326681222707434, 15]\n",
      "[7.5079890829694342, 16]\n",
      "[7.1941517467248914, 17]\n",
      "[6.9305283842794765, 19]\n",
      "[6.8803144104803504, 21]\n",
      "[7.2569192139738004, 22]\n",
      "[6.3907281659388655, 23]\n",
      "[6.4409421397379916, 27]\n",
      "[6.2651932314410494, 28]\n",
      "[6.0015698689956345, 29]\n",
      "[6.4158351528384285, 30]\n",
      "[5.7002860262008745, 31]\n",
      "[7.3950076419213984, 37]\n",
      "[9.6671899563318782, 39]\n",
      "[8.8386593886462883, 41]\n",
      "[8.7633384279475983, 42]\n",
      "[9.6420829694323142, 48]\n",
      "[8.0603427947598263, 52]\n",
      "[7.7339519650655033, 55]\n",
      "[7.3950076419213984, 58]\n",
      "[7.4201146288209623, 59]\n",
      "[7.0686168122270754, 61]\n",
      "[6.5288165938864644, 62]\n",
      "[6.5037096069869005, 63]\n",
      "[6.9305283842794765, 64]\n",
      "[6.9305283842794765, 65]\n",
      "[6.5288165938864635, 66]\n",
      "[6.9305283842794765, 67]\n",
      "[6.4158351528384285, 68]\n",
      "[7.5456495633187783, 69]\n",
      "[6.9807423580786034, 70]\n",
      "[6.9305283842794765, 71]\n",
      "[6.9807423580786034, 72]\n",
      "[6.9054213973799143, 73]\n",
      "[7.1564912663755464, 75]\n",
      "[5.9011419213973806, 76]\n",
      "[6.7673329694323154, 77]\n",
      "[6.5288165938864635, 78]\n",
      "[6.2275327510917045, 79]\n",
      "[6.4283886462882105, 80]\n",
      "[6.8301004366812244, 81]\n",
      "[7.2820262008733634, 82]\n",
      "[8.0854497816593884, 84]\n",
      "[6.5664770742358094, 86]\n",
      "[6.4032816593886484, 87]\n",
      "[6.6920120087336254, 88]\n",
      "[6.6417980349344985, 89]\n",
      "[6.8301004366812244, 90]\n",
      "[6.5162631004366816, 91]\n",
      "[6.6669050218340624, 92]\n",
      "[6.5288165938864635, 93]\n",
      "[6.9054213973799143, 94]\n",
      "[5.9011419213973806, 97]\n",
      "[6.1773187772925775, 98]\n",
      "[6.5288165938864635, 99]\n",
      "[7.9348078602620093, 103]\n",
      "[8.4997150655021834, 105]\n",
      "[8.6252499999999994, 106]\n",
      "[9.3784596069868993, 109]\n",
      "[7.3824541484716164, 112]\n",
      "[6.6041375545851544, 116]\n",
      "[9.9182598253275103, 119]\n",
      "[10.37018558951965, 120]\n",
      "[9.9182598253275103, 124]\n",
      "[8.6880174672489083, 126]\n",
      "[6.8552074235807865, 127]\n",
      "[6.9807423580786043, 128]\n",
      "[7.9348078602620093, 130]\n",
      "[7.5833100436681233, 136]\n",
      "[6.8677609170305693, 137]\n",
      "[7.1941517467248932, 138]\n",
      "[7.8845938864628824, 143]\n",
      "[6.6669050218340624, 144]\n"
     ]
    }
   ],
   "source": [
    "zcand=[] #redshifts medios de los candidatos mejores que revise , ojo con los numeros\n",
    "\n",
    "for i in cand:\n",
    "    m=max(maraston[i])\n",
    "    b=max(bc03[i])\n",
    "    f=max(fsps[i])\n",
    "    p=max(pegase[i])\n",
    "    zcand.append([(m[1]+b[1]+f[1]+p[1])/4,i])\n",
    "    \n",
    "for i in zcand:\n",
    "    print i"
   ]
  }
 ],
 "metadata": {
  "kernelspec": {
   "display_name": "Python 2",
   "language": "python",
   "name": "python2"
  },
  "language_info": {
   "codemirror_mode": {
    "name": "ipython",
    "version": 2
   },
   "file_extension": ".py",
   "mimetype": "text/x-python",
   "name": "python",
   "nbconvert_exporter": "python",
   "pygments_lexer": "ipython2",
   "version": "2.7.11"
  }
 },
 "nbformat": 4,
 "nbformat_minor": 0
}
