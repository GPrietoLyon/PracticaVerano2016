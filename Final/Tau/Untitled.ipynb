{
 "cells": [
  {
   "cell_type": "code",
   "execution_count": 1,
   "metadata": {
    "collapsed": true
   },
   "outputs": [
    {
     "name": "stderr",
     "output_type": "stream",
     "text": [
      "/home/zapredfield/anaconda/lib/python2.7/site-packages/IPython/kernel/__init__.py:13: ShimWarning: The `IPython.kernel` package has been deprecated. You should import from ipykernel or jupyter_client instead.\n",
      "  \"You should import from ipykernel or jupyter_client instead.\", ShimWarning)\n"
     ]
    }
   ],
   "source": [
    "import matplotlib.pyplot as plt\n",
    "import numpy as np\n",
    "import math \n",
    "from astropy.io import ascii"
   ]
  },
  {
   "cell_type": "code",
   "execution_count": 2,
   "metadata": {
    "collapsed": false
   },
   "outputs": [],
   "source": [
    "Mtot=1\n",
    "e=math.e"
   ]
  },
  {
   "cell_type": "code",
   "execution_count": 3,
   "metadata": {
    "collapsed": true
   },
   "outputs": [
    {
     "name": "stderr",
     "output_type": "stream",
     "text": [
      "/home/zapredfield/anaconda/lib/python2.7/site-packages/bs4/__init__.py:181: UserWarning: No parser was explicitly specified, so I'm using the best available HTML parser for this system (\"lxml\"). This usually isn't a problem, but if you run this code on another system, or in a different virtual environment, it may use a different parser and behave differently.\n",
      "\n",
      "The code that caused this warning is on line 162 of the file /home/zapredfield/anaconda/lib/python2.7/runpy.py. To get rid of this warning, change code that looks like this:\n",
      "\n",
      " BeautifulSoup([your markup])\n",
      "\n",
      "to this:\n",
      "\n",
      " BeautifulSoup([your markup], \"lxml\")\n",
      "\n",
      "  markup_type=markup_type))\n"
     ]
    }
   ],
   "source": [
    "ages=ascii.read(\"age.txt\") \n",
    "taus=ascii.read(\"tau.txt\")"
   ]
  },
  {
   "cell_type": "code",
   "execution_count": 4,
   "metadata": {
    "collapsed": false
   },
   "outputs": [],
   "source": [
    "tiempos=[]\n",
    "for i in range(0,100):\n",
    "    tiempos.append([ages[i][0],taus[i][0]])\n",
    "\n",
    "\n",
    "\n"
   ]
  },
  {
   "cell_type": "code",
   "execution_count": 5,
   "metadata": {
    "collapsed": false
   },
   "outputs": [],
   "source": [
    "def sfh(t,tau):\n",
    "    Y=(Mtot/(tau**2))*t*e**(-t/tau)\n",
    "    return Y"
   ]
  },
  {
   "cell_type": "code",
   "execution_count": 9,
   "metadata": {
    "collapsed": false,
    "scrolled": true
   },
   "outputs": [
    {
     "name": "stdout",
     "output_type": "stream",
     "text": [
      "edad= 0.287382   tau= 3.0 SFR= 0.0290144436782\n"
     ]
    }
   ],
   "source": [
    "\n",
    "for i in range(0,1):\n",
    "    age=tiempos[i][0]\n",
    "    tau=3.0\n",
    "    t=np.linspace(0,age,1000)\n",
    "    s=sfh(t,tau)\n",
    "    plt.plot(t,s)\n",
    "    plt.xlabel(\"tiempo\",size=15)\n",
    "    plt.ylabel(\"SFR\",size=15)\n",
    "    plt.show()\n",
    "    print \"edad=\",age,\"  tau=\",tau, \"SFR=\",s[999]\n",
    "    \n",
    "    "
   ]
  },
  {
   "cell_type": "code",
   "execution_count": null,
   "metadata": {
    "collapsed": false,
    "scrolled": true
   },
   "outputs": [],
   "source": [
    "for i in range(0,100):\n",
    "    age=tiempos[i][0]\n",
    "    tau=tiempos[i][1]\n",
    "    t=np.linspace(0,age,1000)\n",
    "    s=sfh(t,tau)\n",
    "    #plt.plot(t,s)\n",
    "    #plt.xlabel(\"tiempo\",size=15)\n",
    "    #plt.ylabel(\"tau\",size=15)\n",
    "    #plt.show()\n",
    "    #print \"edad=\",age,\"  tau=\",tau, \"SFR=\",s[999]\n",
    "    sfr=(age/(tau)**2)*np.exp(-age/tau)\n",
    "    print \"edad:\",age,\"tau:\",tau,\"sfr:\",sfr"
   ]
  },
  {
   "cell_type": "code",
   "execution_count": null,
   "metadata": {
    "collapsed": false,
    "scrolled": true
   },
   "outputs": [],
   "source": [
    "for i in range(0,100):\n",
    "    age=tiempos[i][0]*10**9\n",
    "    tau=tiempos[i][1]*10**9\n",
    "    t=np.linspace(0,age,1000)\n",
    "    s=sfh(t,tau)\n",
    "    #plt.plot(t,s)\n",
    "    #plt.xlabel(\"tiempo\",size=15)\n",
    "    #plt.ylabel(\"tau\",size=15)\n",
    "    #plt.show()\n",
    "    #print \"edad=\",age,\"  tau=\",tau, \"SFR=\",s[999]\n",
    "    sfr=(age/(tau)**2)*np.exp(-age/tau)\n",
    "    print \"edad:\",age,\"tau:\",tau,\"sfr:\",sfr"
   ]
  }
 ],
 "metadata": {
  "kernelspec": {
   "display_name": "Python 2",
   "language": "python",
   "name": "python2"
  },
  "language_info": {
   "codemirror_mode": {
    "name": "ipython",
    "version": 2
   },
   "file_extension": ".py",
   "mimetype": "text/x-python",
   "name": "python",
   "nbconvert_exporter": "python",
   "pygments_lexer": "ipython2",
   "version": "2.7.11"
  }
 },
 "nbformat": 4,
 "nbformat_minor": 0
}
